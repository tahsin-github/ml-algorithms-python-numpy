{
 "cells": [
  {
   "cell_type": "markdown",
   "metadata": {},
   "source": [
    "# Gaussian(Multivariate Normal) Bayes Classifier with Cost Function Example Dataset : Iris\n",
    "## Import necessary modules"
   ]
  },
  {
   "cell_type": "code",
   "execution_count": 1,
   "metadata": {},
   "outputs": [],
   "source": [
    "import os\n",
    "os.chdir(r\"C:\\Users\\tahsi\\OneDrive - University of Eastern Finland\\Python Algorithm and Data Structure\\GitHub\\ml-algorithms-python-numpy\\1. Codes\")\n",
    "import numpy as np\n",
    "import random\n",
    "\n",
    "import load_data_to_matrix, split_train_test, int_label_to_str_label, performance_measurement, k_means_algorithm, distance_measurement"
   ]
  },
  {
   "cell_type": "markdown",
   "metadata": {},
   "source": [
    "# Load Data"
   ]
  },
  {
   "cell_type": "code",
   "execution_count": 2,
   "metadata": {},
   "outputs": [],
   "source": [
    "from load_data_to_matrix import load_text_data, map_label\n",
    "Iris, d_map = load_text_data(file = \"Iris.txt\", delimiter = \",\", header = False , label_col_is_str = True , label_col = 4)"
   ]
  },
  {
   "cell_type": "code",
   "execution_count": 3,
   "metadata": {},
   "outputs": [
    {
     "name": "stdout",
     "output_type": "stream",
     "text": [
      "[[5.1 3.5 1.4 0.2 0. ]\n",
      " [4.9 3.  1.4 0.2 0. ]\n",
      " [4.7 3.2 1.3 0.2 0. ]\n",
      " [4.6 3.1 1.5 0.2 0. ]\n",
      " [5.  3.6 1.4 0.2 0. ]]\n"
     ]
    }
   ],
   "source": [
    "# first 5 rows of the data. The 5th column was the label. The label was string. The function mapped it to integer. The map of label\n",
    "# is stored in the d_map\n",
    "print(Iris[0:5 ,:])"
   ]
  },
  {
   "cell_type": "code",
   "execution_count": 4,
   "metadata": {},
   "outputs": [
    {
     "name": "stdout",
     "output_type": "stream",
     "text": [
      "{'Iris-setosa': 0, 'Iris-versicolor': 1, 'Iris-virginica': 2}\n"
     ]
    }
   ],
   "source": [
    "print(d_map)"
   ]
  },
  {
   "cell_type": "markdown",
   "metadata": {},
   "source": [
    "# Split the Data to Train and Test"
   ]
  },
  {
   "cell_type": "code",
   "execution_count": 5,
   "metadata": {},
   "outputs": [],
   "source": [
    "from split_train_test import split_train_test"
   ]
  },
  {
   "cell_type": "code",
   "execution_count": 6,
   "metadata": {},
   "outputs": [],
   "source": [
    "train_test_data = split_train_test(data = Iris, percentage = 50, label = 4)\n",
    "\n",
    "train_data_feature = train_test_data.train_feature\n",
    "train_data_label = train_test_data.train_label\n",
    "test_feature = np.asarray(train_test_data.test_feature) \n",
    "true_label = np.asarray(train_test_data.test_label)\n",
    "train_data_feature_label = np.asarray(train_test_data.train)"
   ]
  },
  {
   "cell_type": "markdown",
   "metadata": {},
   "source": [
    "# Training the Model"
   ]
  },
  {
   "cell_type": "code",
   "execution_count": 7,
   "metadata": {},
   "outputs": [],
   "source": [
    "from gaussian_bayes_classifier_with_cost_function import *"
   ]
  },
  {
   "cell_type": "code",
   "execution_count": 8,
   "metadata": {},
   "outputs": [],
   "source": [
    "train_data = train_data_feature_label\n",
    "label = 4\n",
    "mean, covariance, prior_prob, class_labels = train_naive_bayes(train_data, label)"
   ]
  },
  {
   "cell_type": "markdown",
   "metadata": {},
   "source": [
    "# Cost Function"
   ]
  },
  {
   "cell_type": "code",
   "execution_count": 9,
   "metadata": {},
   "outputs": [
    {
     "name": "stdout",
     "output_type": "stream",
     "text": [
      "[[0.         0.14544777 0.73474227]\n",
      " [0.83772352 0.         0.03412607]\n",
      " [0.99875251 0.16591533 0.        ]]\n"
     ]
    }
   ],
   "source": [
    "# here we generated a random cost function. Replace it with desired cost function\n",
    "k = len(class_labels)\n",
    "cost_function = np.random.rand(k , k)\n",
    "np.fill_diagonal(cost_function, 0)\n",
    "print(cost_function)"
   ]
  },
  {
   "cell_type": "code",
   "execution_count": null,
   "metadata": {},
   "outputs": [],
   "source": []
  },
  {
   "cell_type": "markdown",
   "metadata": {},
   "source": [
    "# Testing the Model"
   ]
  },
  {
   "cell_type": "code",
   "execution_count": 10,
   "metadata": {},
   "outputs": [],
   "source": [
    "predicted_label = gaussian_bayes_classification_with_cost(test_feature , mean, covariance, prior_prob, class_labels, cost_function)"
   ]
  },
  {
   "cell_type": "code",
   "execution_count": 11,
   "metadata": {},
   "outputs": [
    {
     "name": "stdout",
     "output_type": "stream",
     "text": [
      "[0.0, 0.0, 0.0, 0.0, 0.0, 0.0, 0.0, 0.0, 0.0, 0.0, 0.0, 0.0, 0.0, 0.0, 0.0, 0.0, 0.0, 0.0, 0.0, 0.0, 0.0, 0.0, 1.0, 1.0, 1.0, 1.0, 1.0, 1.0, 1.0, 1.0, 1.0, 1.0, 1.0, 1.0, 1.0, 1.0, 2.0, 1.0, 1.0, 1.0, 1.0, 1.0, 1.0, 1.0, 1.0, 1.0, 1.0, 2.0, 2.0, 2.0, 2.0, 2.0, 2.0, 2.0, 2.0, 2.0, 2.0, 2.0, 2.0, 2.0, 2.0, 2.0, 2.0, 1.0, 1.0, 2.0, 1.0, 2.0, 2.0, 2.0, 2.0, 2.0, 2.0, 2.0, 1.0]\n"
     ]
    }
   ],
   "source": [
    "print(predicted_label)"
   ]
  },
  {
   "cell_type": "code",
   "execution_count": null,
   "metadata": {},
   "outputs": [],
   "source": []
  },
  {
   "cell_type": "markdown",
   "metadata": {},
   "source": [
    "# Codes of the Gaussian(Multivariate Normal) Bayes Classifier"
   ]
  },
  {
   "cell_type": "code",
   "execution_count": 12,
   "metadata": {},
   "outputs": [],
   "source": [
    "# Training of the model.\n",
    "\n",
    "def train_naive_bayes(train_data, label):\n",
    "    \n",
    "    \"\"\"\n",
    "    Input:\n",
    "    1. train_data: the train data with the label column. The data must be in 2d array(not matrix).\n",
    "    2. label: the column index of the label in the train_data.\n",
    "    \n",
    "    Output:\n",
    "    1. mean: the mean vector of the features in dictionary.\n",
    "    2. covariance: the covariance of the features in dictionary.\n",
    "    3. prior_prob : the prior probability of each of the labels dictionary.\n",
    "    4. class_label : label of the classes.\n",
    "    \n",
    "    In output dictionary the keys are the label.\n",
    "    \"\"\"\n",
    "\n",
    "    import numpy as np\n",
    "\n",
    "    # Storing mean and variances of each of the features of each of the classes in dictionary.\n",
    "    \n",
    "    # Train Model.\n",
    "\n",
    "    # Storing mean and variances of each of the features of each of the classes in dictionary.\n",
    "    mean = {}\n",
    "    covariance  = {}\n",
    "    prior_prob = {}\n",
    "\n",
    "\n",
    "    \n",
    "    N = train_data.shape[0]\n",
    "    class_labels = np.unique(train_data[:, label])\n",
    "    for i in class_labels:\n",
    "        X = train_data[train_data[:, label] == i, :] # make seperate matrix for each of the classes.\n",
    "        X_features = np.delete(X, label, axis = 1)       # delete the class column and take only the features.\n",
    "        mean[i] = X_features.mean(0)                 # means of the features\n",
    "        covariance[i]  = np.cov(X_features.T)        # covariances of the features\n",
    "        prior_prob[i] = X_features.shape[0]/N\n",
    "\n",
    "\n",
    "            \n",
    "    return mean, covariance, prior_prob, class_labels\n",
    "    \n",
    "\n",
    "\n",
    "# Testing\n",
    "\n",
    "# Normal Likelihood\n",
    "\n",
    "def multivariate_gaussian_likelihood(x, mu, sigma):\n",
    "    \n",
    "    import numpy as np\n",
    "    import math\n",
    "    \n",
    "    p = len(x)\n",
    "    \n",
    "    p1 =  1 / (pow(2 * (math.pi), p/2) * np.linalg.det(sigma))\n",
    "\n",
    "    X = np.asmatrix(x - mu)\n",
    "    Y = np.asmatrix(np.linalg.inv(sigma))\n",
    "    p2 = math.exp(-0.5 * np.dot(np.dot(X,Y), X.T))\n",
    "\n",
    "    return p1*p2\n",
    "\n",
    "    \n",
    "\n",
    "    \n",
    "\n",
    "# Bayes Numerator\n",
    "\n",
    "def bayes_numerator(likelihood, prior):\n",
    "    return likelihood * prior\n",
    "\n",
    "\n",
    "\n",
    "\n",
    "def gaussian_bayes_classification_with_cost(test_feature, mean, covariance, prior_prob, class_labels, cost_function):\n",
    "    \"\"\"\n",
    "    Input:\n",
    "    1. test_feature: the test features in 2D array(not matrix).\n",
    "    2. mean: the mean vector of the features in dictionary.(from the training step)\n",
    "    3. covariance: the covariance of the features in dictionary.(from the training step)\n",
    "    4. prior_prob : the prior probability of each of the labels dictionary.(from the training step)\n",
    "    5. cost_function: a 2d array associated with corresponding cost of misclassification.\n",
    "\n",
    "    Output:\n",
    "    The predicted label in list.\n",
    "    \"\"\"\n",
    "\n",
    "    import numpy as np\n",
    "\n",
    "    pred_label = []\n",
    "\n",
    "    # Test the data\n",
    "    for i in range(len(test_feature)):\n",
    "        x = test_feature[i]\n",
    "\n",
    "        class_compare = np.empty([len(class_labels), 4])\n",
    "        class_compare[:] = np.nan\n",
    "        class_compare[:, 0] = class_labels\n",
    "\n",
    "        bayes_numerator_all_class = [multivariate_gaussian_likelihood(x, mean[i], covariance[i]) for i in class_labels]\n",
    "\n",
    "        normalizing_factor = sum(bayes_numerator_all_class)\n",
    "\n",
    "        posterior_porb = [bayes_numerator_all_class[i]/ normalizing_factor for i in range(len(bayes_numerator_all_class))]\n",
    "\n",
    "        class_compare[:, 1] = bayes_numerator_all_class\n",
    "        class_compare[:, 2] = posterior_porb\n",
    "\n",
    "        risk_function = np.dot(cost_function, posterior_porb)\n",
    "    \n",
    "        class_compare[:, 3] = risk_function  \n",
    "        \n",
    "\n",
    "        \n",
    "        minimum_cost      =  min(class_compare[:, 3])\n",
    "        \n",
    "        \n",
    "        \n",
    "\n",
    "        c = class_compare[class_compare[:,3] == minimum_cost,][0][0]\n",
    "\n",
    "        pred_label.append(c)\n",
    "    \n",
    "    return pred_label"
   ]
  },
  {
   "cell_type": "code",
   "execution_count": null,
   "metadata": {},
   "outputs": [],
   "source": []
  }
 ],
 "metadata": {
  "kernelspec": {
   "display_name": "Python 3",
   "language": "python",
   "name": "python3"
  },
  "language_info": {
   "codemirror_mode": {
    "name": "ipython",
    "version": 3
   },
   "file_extension": ".py",
   "mimetype": "text/x-python",
   "name": "python",
   "nbconvert_exporter": "python",
   "pygments_lexer": "ipython3",
   "version": "3.6.5"
  }
 },
 "nbformat": 4,
 "nbformat_minor": 2
}
