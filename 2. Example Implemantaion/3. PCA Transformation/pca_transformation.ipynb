{
 "cells": [
  {
   "cell_type": "code",
   "execution_count": 2,
   "metadata": {},
   "outputs": [],
   "source": [
    "import load_data_to_matrix, split_train_test, int_label_to_str_label, performance_measurement, k_means_algorithm, distance_measurement"
   ]
  },
  {
   "cell_type": "code",
   "execution_count": 3,
   "metadata": {},
   "outputs": [],
   "source": [
    "from load_data_to_matrix import load_text_data, map_label\n",
    "Iris, d_map = load_text_data(file = \"Iris.txt\", delimiter = \",\", header = False , label_col_is_str = True , label_col = 4)"
   ]
  },
  {
   "cell_type": "code",
   "execution_count": 4,
   "metadata": {},
   "outputs": [],
   "source": [
    "# take the data without the label\n",
    "data = Iris[:, 0:4]"
   ]
  },
  {
   "cell_type": "code",
   "execution_count": 5,
   "metadata": {},
   "outputs": [],
   "source": [
    "from pca_transformation import pca_transformaiton"
   ]
  },
  {
   "cell_type": "code",
   "execution_count": 7,
   "metadata": {},
   "outputs": [],
   "source": [
    "t_data = pca_transformaiton(data, 2)"
   ]
  },
  {
   "cell_type": "code",
   "execution_count": 10,
   "metadata": {},
   "outputs": [
    {
     "name": "stdout",
     "output_type": "stream",
     "text": [
      "[[-2.68420713 -0.32660731]\n",
      " [-2.71539062  0.16955685]\n",
      " [-2.88981954  0.13734561]\n",
      " [-2.7464372   0.31112432]]\n"
     ]
    }
   ],
   "source": [
    "print(t_data[0:4, ])"
   ]
  },
  {
   "cell_type": "code",
   "execution_count": null,
   "metadata": {},
   "outputs": [],
   "source": []
  },
  {
   "cell_type": "markdown",
   "metadata": {},
   "source": [
    "# The function pca_transformaiton"
   ]
  },
  {
   "cell_type": "code",
   "execution_count": 11,
   "metadata": {},
   "outputs": [],
   "source": [
    "def pca_transformaiton(data, k):\n",
    "    \"\"\"\n",
    "    Input:\n",
    "    1. feature_data: the data without the label.\n",
    "    2. k : number of features needed in the final transformation. k must be less than the total number of features in the main \n",
    "    dataset.\n",
    "    \n",
    "    Output:\n",
    "    1. The transformed data with k features.\n",
    "    \n",
    "    \n",
    "    \"\"\"\n",
    "    \n",
    "    import numpy as np\n",
    "        \n",
    "    f_means = np.mean(data, axis = 0) # means of each of the features(by column)\n",
    "    adjusted_data = data - f_means # the adjusted data. main feature data - feature means\n",
    "    V = np.transpose(adjusted_data) # the transpose of the adjusted_data\n",
    "    C = np.cov(V) # the covariance matrix\n",
    "    eig_value, eig_vectors = np.linalg.eig(C) # the eigen valus and eigen vectors of the covariance matrix.\n",
    "    eig_value_indices_sort = np.argsort(eig_value) # find indices of the sorted values. \n",
    "    P = (eig_value_indices_sort < len(eig_value_indices_sort) - k) != True # find the indices of first k maximum\n",
    "    A = eig_vectors[:, P] # eigen vectors of the maximum eigen values\n",
    "    \n",
    "    # pca transformation\n",
    "    pca_transformation = np.transpose(np.matmul(np.transpose(A), np.transpose(adjusted_data)))\n",
    "    \n",
    "    return pca_transformation\n",
    "    \n",
    "    \n",
    "    \n",
    "    \n",
    "    \n"
   ]
  },
  {
   "cell_type": "code",
   "execution_count": null,
   "metadata": {},
   "outputs": [],
   "source": []
  },
  {
   "cell_type": "code",
   "execution_count": null,
   "metadata": {},
   "outputs": [],
   "source": []
  }
 ],
 "metadata": {
  "kernelspec": {
   "display_name": "Python 3",
   "language": "python",
   "name": "python3"
  },
  "language_info": {
   "codemirror_mode": {
    "name": "ipython",
    "version": 3
   },
   "file_extension": ".py",
   "mimetype": "text/x-python",
   "name": "python",
   "nbconvert_exporter": "python",
   "pygments_lexer": "ipython3",
   "version": "3.6.5"
  }
 },
 "nbformat": 4,
 "nbformat_minor": 2
}
